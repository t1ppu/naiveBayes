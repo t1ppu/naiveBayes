{
 "cells": [
  {
   "cell_type": "code",
   "execution_count": 152,
   "metadata": {},
   "outputs": [],
   "source": [
    "import os\n",
    "import math\n",
    "import random\n",
    "import sys\n",
    "from nltk.corpus import stopwords"
   ]
  },
  {
   "cell_type": "code",
   "execution_count": 153,
   "metadata": {},
   "outputs": [],
   "source": [
    "# Function to read in the data from the directory\n",
    "def read_data(data_dir):\n",
    "    data = []\n",
    "    for category in os.listdir(data_dir):\n",
    "        category_path = os.path.join(data_dir, category)\n",
    "        for document in os.listdir(category_path):\n",
    "            with open(os.path.join(category_path, document), 'rb') as f:\n",
    "                content = f.read().decode(errors='ignore')\n",
    "                data.append((content, category))\n",
    "    return data"
   ]
  },
  {
   "cell_type": "code",
   "execution_count": 154,
   "metadata": {},
   "outputs": [],
   "source": [
    "# Function to split the data into training and testing sets\n",
    "def split_data(data):\n",
    "    l = len(data)\n",
    "    random.shuffle(data)\n",
    "    train_data = data[:round(0.5*l)]\n",
    "    test_data = data[round(0.5*l):]\n",
    "    return train_data, test_data"
   ]
  },
  {
   "cell_type": "code",
   "execution_count": 155,
   "metadata": {},
   "outputs": [],
   "source": [
    "# Function to preprocess the text data\n",
    "def preprocess_data(data):\n",
    "    preprocessed_data = {}\n",
    "    for document, category in data:\n",
    "        words = [i.lower() for i in document.split() if i.isalnum() and i not in s]\n",
    "        if category not in preprocessed_data.keys():\n",
    "            preprocessed_data[category] = []\n",
    "        preprocessed_data[category].extend(words)\n",
    "    return preprocessed_data"
   ]
  },
  {
   "cell_type": "code",
   "execution_count": 156,
   "metadata": {},
   "outputs": [],
   "source": [
    "# Function to compute the vocabulary from the preprocessed data\n",
    "def compute_vocabulary(data):\n",
    "    vocabulary = set()\n",
    "    for category, words in data.items():\n",
    "        for word in words:\n",
    "            vocabulary.add(word)\n",
    "    return vocabulary"
   ]
  },
  {
   "cell_type": "code",
   "execution_count": 157,
   "metadata": {},
   "outputs": [],
   "source": [
    "# Function to compute the prior probabilities\n",
    "def compute_prior_probabilities(preprocessed_train_data):\n",
    "    category_counts = dict.fromkeys(preprocessed_train_data.keys(),0)\n",
    "    for category, words in preprocessed_train_data.items():\n",
    "        category_counts[category] = len([j for i,j in train_data if j==category])\n",
    "    num_documents = len(train_data)\n",
    "    prior_probabilities = {}\n",
    "    for category in category_counts:\n",
    "        prior_probabilities[category] = category_counts[category] / num_documents\n",
    "    return prior_probabilities"
   ]
  },
  {
   "cell_type": "code",
   "execution_count": 158,
   "metadata": {},
   "outputs": [],
   "source": [
    "# Function to compute the conditional probabilities\n",
    "def compute_conditional_probabilities(preprocessed_train_data, prior_probabilities, vocabulary):\n",
    "    lv = len(vocabulary)\n",
    "    conditional_probabilities = {}\n",
    "    for category, words in preprocessed_train_data.items():\n",
    "        total_words = len(words)\n",
    "        conditional_probabilities[category] = {}\n",
    "        word_set = set(words)\n",
    "        for word in word_set:\n",
    "            conditional_probabilities[category][word] =  prior_probabilities[category]*(words.count(word) + 1) / (lv + total_words)\n",
    "    return conditional_probabilities"
   ]
  },
  {
   "cell_type": "code",
   "execution_count": 159,
   "metadata": {},
   "outputs": [],
   "source": [
    "# Function to predict the category of a document\n",
    "def predict_document_category(words, prior_probabilities, conditional_probabilities):\n",
    "    probabilities = {}\n",
    "    for category in prior_probabilities.keys():\n",
    "        probabilities[category] = math.log(prior_probabilities[category])\n",
    "        for word in words:\n",
    "            if word in conditional_probabilities[category]:\n",
    "                probabilities[category] += math.log(conditional_probabilities[category][word])\n",
    "    # print(probabilities)\n",
    "    return min(probabilities, key=probabilities.get)"
   ]
  },
  {
   "cell_type": "code",
   "execution_count": 160,
   "metadata": {},
   "outputs": [],
   "source": [
    "# Set the path to the data directory\n",
    "data_dir = \"./20_newsgroups\"\n",
    "# print(os.getcwd())\n",
    "\n",
    "# Stop words set\n",
    "s = set(stopwords.words('english'))\n",
    "\n",
    "# Read the data\n",
    "data = read_data(data_dir)\n",
    "\n",
    "# Split the data into training and testing datasets\n",
    "train_data, test_data = split_data(data)\n",
    "# print(len(train_data), len(test_data))\n",
    "\n",
    "# Preprocess the training data\n",
    "preprocessed_train_data = preprocess_data(train_data)\n",
    "\n",
    "# Compute the vocabulary\n",
    "vocabulary = compute_vocabulary(preprocessed_train_data)\n"
   ]
  },
  {
   "cell_type": "code",
   "execution_count": 167,
   "metadata": {},
   "outputs": [
    {
     "name": "stdout",
     "output_type": "stream",
     "text": [
      "{'talk.politics.misc': 0.049109821964392876, 'comp.windows.x': 0.05091018203640728, 'comp.sys.ibm.pc.hardware': 0.05001000200040008, 'sci.med': 0.04960992198439688, 'rec.motorcycles': 0.04490898179635927, 'rec.sport.hockey': 0.05181036207241448, 'rec.sport.baseball': 0.05251050210042008, 'misc.forsale': 0.04980996199239848, 'comp.graphics': 0.05091018203640728, 'rec.autos': 0.04990998199639928, 'comp.os.ms-windows.misc': 0.05081016203240648, 'talk.religion.misc': 0.04920984196839368, 'comp.sys.mac.hardware': 0.04940988197639528, 'sci.electronics': 0.05151030206041208, 'talk.politics.guns': 0.052410482096419284, 'soc.religion.christian': 0.05001000200040008, 'sci.space': 0.04860972194438888, 'sci.crypt': 0.05211042208441689, 'talk.politics.mideast': 0.04830966193238648, 'alt.atheism': 0.04810962192438488}\n"
     ]
    }
   ],
   "source": [
    "# Compute the prior probabilities\n",
    "prior_probabilities = compute_prior_probabilities(preprocessed_train_data)\n",
    "print(prior_probabilities)"
   ]
  },
  {
   "cell_type": "code",
   "execution_count": 162,
   "metadata": {},
   "outputs": [],
   "source": [
    "# Compute the conditional probabilities\n",
    "conditional_probabilities = compute_conditional_probabilities(preprocessed_train_data, prior_probabilities, vocabulary)\n"
   ]
  },
  {
   "cell_type": "code",
   "execution_count": null,
   "metadata": {},
   "outputs": [],
   "source": [
    "# for i in conditional_probabilities.keys():\n",
    "#     print(conditional_probabilities[i])"
   ]
  },
  {
   "cell_type": "code",
   "execution_count": 168,
   "metadata": {},
   "outputs": [],
   "source": [
    "# Preprocess the testing data\n",
    "preprocessed_test_data = []\n",
    "for i in range(len(test_data)):\n",
    "    preprocessed_test_data.append((test_data[i][1], [word.lower() for word in test_data[i][0].split() if word.isalnum() and word not in s]))"
   ]
  },
  {
   "cell_type": "code",
   "execution_count": 170,
   "metadata": {},
   "outputs": [
    {
     "name": "stdout",
     "output_type": "stream",
     "text": [
      "Accuracy:74.36%\n"
     ]
    }
   ],
   "source": [
    "# Compute the accuracy on the testing data\n",
    "num_correct = 0\n",
    "for category, words in preprocessed_test_data:\n",
    "    predicted_category = predict_document_category(words, prior_probabilities, conditional_probabilities)\n",
    "    # print(category, predicted_category)\n",
    "    if predicted_category == category:\n",
    "        num_correct += 1\n",
    "accuracy = num_correct / len(preprocessed_test_data)\n",
    "print(\"Accuracy:{0:.2f}%\".format(accuracy*100))"
   ]
  }
 ],
 "metadata": {
  "kernelspec": {
   "display_name": "Python 3",
   "language": "python",
   "name": "python3"
  },
  "language_info": {
   "codemirror_mode": {
    "name": "ipython",
    "version": 3
   },
   "file_extension": ".py",
   "mimetype": "text/x-python",
   "name": "python",
   "nbconvert_exporter": "python",
   "pygments_lexer": "ipython3",
   "version": "3.10.10"
  },
  "orig_nbformat": 4
 },
 "nbformat": 4,
 "nbformat_minor": 2
}
